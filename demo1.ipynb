{
 "cells": [
  {
   "cell_type": "markdown",
   "id": "b2be0374",
   "metadata": {},
   "source": [
    "## PSMILES 标准化"
   ]
  },
  {
   "cell_type": "code",
   "execution_count": 9,
   "id": "539dc44a",
   "metadata": {},
   "outputs": [],
   "source": [
    "from canonicalize_psmiles import canonicalize\n",
    "from rdkit import Chem\n",
    "from typing import Optional\n",
    "import tqdm as notebook_tqdm"
   ]
  },
  {
   "cell_type": "code",
   "execution_count": 10,
   "id": "5b36a28b",
   "metadata": {},
   "outputs": [],
   "source": [
    "def has_two_stars(ps): # 确保有且仅有两个连接位点\n",
    "    return ps.count('[*]') == 2\n",
    "\n",
    "def canonicalize_or_skip(psmiles: str) -> Optional[str]:\n",
    "    try:\n",
    "        canon = canonicalize(psmiles)\n",
    "        if not has_two_stars(canon):\n",
    "            return None\n",
    "        # 基础 RDKit 语法校验（PSMILES到分子对象可能需要将 [*] 替换为占位原子）\n",
    "        tmp = canon.replace('[*]', '[Xe]')  # 占位为惰性原子检查价态/语法\n",
    "        if Chem.MolFromSmiles(tmp) is None:\n",
    "            return None\n",
    "        return canon\n",
    "    except Exception:\n",
    "        return None\n",
    "\n"
   ]
  },
  {
   "cell_type": "code",
   "execution_count": 11,
   "id": "515e3e04",
   "metadata": {},
   "outputs": [
    {
     "name": "stdout",
     "output_type": "stream",
     "text": [
      "[MASK] [CLS] [SEP]\n"
     ]
    }
   ],
   "source": [
    "# 加载PolyBERT的SentencePiece分词器\n",
    "from transformers import AutoTokenizer\n",
    "\n",
    "TOK_NAME = \"kuelumbus/polyBERT\"  # 论文对应的开源模型与词表\n",
    "tok = AutoTokenizer.from_pretrained(TOK_NAME, use_fast=False)  # SentencePiece\n",
    "print(tok.mask_token, tok.cls_token, tok.sep_token)  # 确认特殊符号"
   ]
  },
  {
   "cell_type": "code",
   "execution_count": null,
   "id": "a81cb205",
   "metadata": {},
   "outputs": [],
   "source": [
    "import random\n",
    "random.seed(42)\n",
    "\n",
    "# 为PSMILES的token id列表随机掩码\n",
    "def random_spans_to_mask(ids, p=0.20, min_span=1, max_span=5, mask_id=None):\n",
    "    n = len(ids)\n",
    "    K = max(1, int(n * p))  # 大致目标掩码 token 数\n",
    "    masked = ids[:]\n",
    "    covered = 0\n",
    "    while covered < K:\n",
    "        span = random.randint(min_span, max_span)\n",
    "        start = random.randint(1, n-2-span)  # 避免动 [CLS]/[SEP]\n",
    "        # 跳过特殊符号与星号位置（星号尽量不掩码，降低语法崩溃风险）\n",
    "        if mask_id is None:\n",
    "            mask_id = tok.mask_token_id\n",
    "        for j in range(span):\n",
    "            idx = start + j\n",
    "            if masked[idx] in (tok.cls_token_id, tok.sep_token_id) or tok.decode([masked[idx]]) == '[*]':\n",
    "                continue\n",
    "            masked[idx] = mask_id\n",
    "            covered += 1\n",
    "            if covered >= K:\n",
    "                break\n",
    "    return masked"
   ]
  },
  {
   "cell_type": "code",
   "execution_count": null,
   "id": "272063a3",
   "metadata": {},
   "outputs": [],
   "source": []
  }
 ],
 "metadata": {
  "kernelspec": {
   "display_name": "py38",
   "language": "python",
   "name": "python3"
  },
  "language_info": {
   "codemirror_mode": {
    "name": "ipython",
    "version": 3
   },
   "file_extension": ".py",
   "mimetype": "text/x-python",
   "name": "python",
   "nbconvert_exporter": "python",
   "pygments_lexer": "ipython3",
   "version": "3.8.20"
  }
 },
 "nbformat": 4,
 "nbformat_minor": 5
}
