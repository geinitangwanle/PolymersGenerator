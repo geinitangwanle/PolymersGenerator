{
 "cells": [
  {
   "cell_type": "code",
   "execution_count": 1,
   "id": "6c136629",
   "metadata": {},
   "outputs": [],
   "source": [
    "import sys, torch\n",
    "from pathlib import Path\n",
    "repo = Path(\"/Users/tangren/Documents/PolymersGenerator\")\n",
    "sys.path.append(str(repo / \"src\"))  # 允许导入 src 包"
   ]
  },
  {
   "cell_type": "code",
   "execution_count": 2,
   "id": "96db3b77",
   "metadata": {},
   "outputs": [
    {
     "name": "stderr",
     "output_type": "stream",
     "text": [
      "/opt/anaconda3/envs/py38/lib/python3.8/site-packages/tqdm/auto.py:21: TqdmWarning: IProgress not found. Please update jupyter and ipywidgets. See https://ipywidgets.readthedocs.io/en/stable/user_install.html\n",
      "  from .autonotebook import tqdm as notebook_tqdm\n"
     ]
    }
   ],
   "source": [
    "# 导入模块与设备\n",
    "from src.tokenizer import PolyBertTokenizer\n",
    "from src.dataset import make_loader\n",
    "from src.model import VAESmiles\n",
    "from src.train import train_one_epoch, val_loss, set_seed\n",
    "from transformers import AutoModel\n",
    "import torch.optim as optim\n",
    "import tqdm as notebook_tqdm\n",
    "\n",
    "set_seed(42)\n",
    "device = torch.device(\"cuda\" if torch.cuda.is_available() else \"mps\"\n",
    "                      if torch.backends.mps.is_available() else \"cpu\")\n"
   ]
  },
  {
   "cell_type": "code",
   "execution_count": 3,
   "id": "294dafc2",
   "metadata": {},
   "outputs": [],
   "source": [
    "# 加载数据与tokenizer\n",
    "csv_path = \"data/PSMILES_Tg_only.csv\"\n",
    "tokenizer = PolyBertTokenizer(\"kuelumbus/polyBERT\")\n",
    "train_loader = make_loader(\n",
    "    csv_path,\n",
    "    tokenizer,\n",
    "    batch_size=128,\n",
    "    shuffle=True,\n",
    "    col=\"PSMILES\",\n",
    "    max_len=256,\n",
    ")\n",
    "val_loader = make_loader(\n",
    "    csv_path,\n",
    "    tokenizer,\n",
    "    batch_size=128,\n",
    "    shuffle=False,\n",
    "    col=\"PSMILES\",\n",
    "    max_len=256,\n",
    ")\n"
   ]
  },
  {
   "cell_type": "code",
   "execution_count": 4,
   "id": "42ac6dad",
   "metadata": {},
   "outputs": [],
   "source": [
    "# 构建带polyBERT编码器的VAE模型\n",
    "polybert = AutoModel.from_pretrained(\"kuelumbus/polyBERT\")\n",
    "model = VAESmiles(\n",
    "    vocab_size=tokenizer.vocab_size,\n",
    "    emb_dim=256,\n",
    "    encoder_hid_dim=polybert.config.hidden_size,\n",
    "    decoder_hid_dim=512,\n",
    "    z_dim=128,\n",
    "    n_layers=1,\n",
    "    pad_id=tokenizer.pad_id,\n",
    "    bos_id=tokenizer.bos_id,\n",
    "    eos_id=tokenizer.eos_id,\n",
    "    drop=0.1,\n",
    "    use_polybert=True,\n",
    "    polybert=polybert,\n",
    "    freeze_polybert=True,\n",
    "    polybert_pooling=\"cls\",\n",
    ").to(device)\n",
    "\n",
    "optimizer = optim.AdamW(model.parameters(), lr=3e-4, weight_decay=0.01)\n",
    "\n"
   ]
  },
  {
   "cell_type": "code",
   "execution_count": 5,
   "id": "8eb2b115",
   "metadata": {},
   "outputs": [
    {
     "name": "stderr",
     "output_type": "stream",
     "text": [
      "                                               \r"
     ]
    },
    {
     "name": "stdout",
     "output_type": "stream",
     "text": [
      "[1/10] train=2.4584 val=1.4561 kl_w=0.10\n"
     ]
    },
    {
     "name": "stderr",
     "output_type": "stream",
     "text": [
      "                                               \r"
     ]
    },
    {
     "name": "stdout",
     "output_type": "stream",
     "text": [
      "[2/10] train=1.2960 val=1.1144 kl_w=0.20\n"
     ]
    },
    {
     "name": "stderr",
     "output_type": "stream",
     "text": [
      "                                               \r"
     ]
    },
    {
     "name": "stdout",
     "output_type": "stream",
     "text": [
      "[3/10] train=1.0283 val=0.9243 kl_w=0.30\n"
     ]
    },
    {
     "name": "stderr",
     "output_type": "stream",
     "text": [
      "                                               \r"
     ]
    },
    {
     "name": "stdout",
     "output_type": "stream",
     "text": [
      "[4/10] train=0.8725 val=0.8074 kl_w=0.40\n"
     ]
    },
    {
     "name": "stderr",
     "output_type": "stream",
     "text": [
      "                                               \r"
     ]
    },
    {
     "name": "stdout",
     "output_type": "stream",
     "text": [
      "[5/10] train=0.7737 val=0.7248 kl_w=0.50\n"
     ]
    },
    {
     "name": "stderr",
     "output_type": "stream",
     "text": [
      "                                               \r"
     ]
    },
    {
     "name": "stdout",
     "output_type": "stream",
     "text": [
      "[6/10] train=0.7033 val=0.6666 kl_w=0.60\n"
     ]
    },
    {
     "name": "stderr",
     "output_type": "stream",
     "text": [
      "                                               \r"
     ]
    },
    {
     "name": "stdout",
     "output_type": "stream",
     "text": [
      "[7/10] train=0.6513 val=0.6218 kl_w=0.70\n"
     ]
    },
    {
     "name": "stderr",
     "output_type": "stream",
     "text": [
      "                                               \r"
     ]
    },
    {
     "name": "stdout",
     "output_type": "stream",
     "text": [
      "[8/10] train=0.6125 val=0.5903 kl_w=0.80\n"
     ]
    },
    {
     "name": "stderr",
     "output_type": "stream",
     "text": [
      "                                               \r"
     ]
    },
    {
     "name": "stdout",
     "output_type": "stream",
     "text": [
      "[9/10] train=0.5821 val=0.5620 kl_w=0.90\n"
     ]
    },
    {
     "name": "stderr",
     "output_type": "stream",
     "text": [
      "                                               \r"
     ]
    },
    {
     "name": "stdout",
     "output_type": "stream",
     "text": [
      "[10/10] train=0.5562 val=0.5391 kl_w=1.00\n"
     ]
    }
   ],
   "source": [
    "# 训练循环\n",
    "epochs, best = 10, float(\"inf\")\n",
    "for epoch in range(epochs):\n",
    "    kl_w = min(1.0, (epoch + 1) / 10.0)\n",
    "    train_loss = train_one_epoch(model, train_loader, optimizer,\n",
    "                                 kl_w, tokenizer.pad_id, device)\n",
    "    val_loss_value = val_loss(model, val_loader, kl_w,\n",
    "                              tokenizer.pad_id, device)\n",
    "    print(f\"[{epoch+1}/{epochs}] train={train_loss:.4f} \"\n",
    "          f\"val={val_loss_value:.4f} kl_w={kl_w:.2f}\")\n",
    "\n",
    "    if val_loss_value + 1e-3 < best:\n",
    "        best = val_loss_value\n",
    "        (repo / \"checkpoints\").mkdir(exist_ok=True)\n",
    "        torch.save(\n",
    "            {\n",
    "                \"model\": model.state_dict(),\n",
    "                \"tokenizer_name\": \"kuelumbus/polyBERT\",\n",
    "                \"tokenizer\": tokenizer.get_vocab(),\n",
    "                \"pad_token_id\": tokenizer.pad_id,\n",
    "                \"bos_token_id\": tokenizer.bos_id,\n",
    "                \"eos_token_id\": tokenizer.eos_id,\n",
    "                \"use_polybert\": True,\n",
    "            },\n",
    "            repo / \"checkpoints/notebook.pt\",\n",
    "        )\n",
    "\n"
   ]
  },
  {
   "cell_type": "code",
   "execution_count": 6,
   "id": "cebd6692",
   "metadata": {},
   "outputs": [],
   "source": [
    "# 生成与重构\n",
    "@torch.no_grad()\n",
    "def sample_smiles(model, tokenizer, num=16, max_len=256):\n",
    "    z = torch.randn(num, model.mu.out_features, device=device)\n",
    "    token_ids = model.sample(z, max_len=max_len)\n",
    "    return [tokenizer.decode(row.tolist()) for row in token_ids.cpu()]\n",
    "\n",
    "@torch.no_grad()\n",
    "def reconstruct(model, tokenizer, smiles):\n",
    "    ids = tokenizer.encode(smiles)\n",
    "    enc = torch.tensor(ids, device=device).unsqueeze(0)\n",
    "    mask = (enc != tokenizer.pad_id).long()\n",
    "    mu, logvar = model.encode(enc, mask)\n",
    "    z = model.reparameterize(mu, logvar)\n",
    "    out = model.sample(z, max_len=enc.size(1))\n",
    "    return tokenizer.decode(out.squeeze(0).tolist())\n",
    "\n",
    "model.eval()\n",
    "generated = sample_smiles(model, tokenizer, num=10)\n",
    "recon = reconstruct(model, tokenizer, \"[*]#C[SiH2]C#Cc1cccc(C#[*])c1\")\n"
   ]
  },
  {
   "cell_type": "code",
   "execution_count": 5,
   "id": "b5a5b07b",
   "metadata": {},
   "outputs": [
    {
     "name": "stderr",
     "output_type": "stream",
     "text": [
      "/var/folders/zp/7_rwy7bn2vgckz6rtnz6fvp00000gn/T/ipykernel_82329/4149408278.py:2: FutureWarning: You are using `torch.load` with `weights_only=False` (the current default value), which uses the default pickle module implicitly. It is possible to construct malicious pickle data which will execute arbitrary code during unpickling (See https://github.com/pytorch/pytorch/blob/main/SECURITY.md#untrusted-models for more details). In a future release, the default value for `weights_only` will be flipped to `True`. This limits the functions that could be executed during unpickling. Arbitrary objects will no longer be allowed to be loaded via this mode unless they are explicitly allowlisted by the user via `torch.serialization.add_safe_globals`. We recommend you start setting `weights_only=True` for any use case where you don't have full control of the loaded file. Please open an issue on GitHub for any issues related to this experimental feature.\n",
      "  ckpt = torch.load(repo / \"checkpoints/notebook.pt\", map_location=device)\n"
     ]
    },
    {
     "data": {
      "text/plain": [
       "VAESmiles(\n",
       "  (drop): Dropout(p=0.1, inplace=False)\n",
       "  (emb): Embedding(270, 256, padding_idx=267)\n",
       "  (polybert): DebertaV2Model(\n",
       "    (embeddings): DebertaV2Embeddings(\n",
       "      (word_embeddings): Embedding(269, 600, padding_idx=3)\n",
       "      (position_embeddings): Embedding(512, 600)\n",
       "      (LayerNorm): LayerNorm((600,), eps=1e-07, elementwise_affine=True)\n",
       "      (dropout): StableDropout()\n",
       "    )\n",
       "    (encoder): DebertaV2Encoder(\n",
       "      (layer): ModuleList(\n",
       "        (0-11): 12 x DebertaV2Layer(\n",
       "          (attention): DebertaV2Attention(\n",
       "            (self): DisentangledSelfAttention(\n",
       "              (query_proj): Linear(in_features=600, out_features=600, bias=True)\n",
       "              (key_proj): Linear(in_features=600, out_features=600, bias=True)\n",
       "              (value_proj): Linear(in_features=600, out_features=600, bias=True)\n",
       "              (dropout): StableDropout()\n",
       "            )\n",
       "            (output): DebertaV2SelfOutput(\n",
       "              (dense): Linear(in_features=600, out_features=600, bias=True)\n",
       "              (LayerNorm): LayerNorm((600,), eps=1e-07, elementwise_affine=True)\n",
       "              (dropout): StableDropout()\n",
       "            )\n",
       "          )\n",
       "          (intermediate): DebertaV2Intermediate(\n",
       "            (dense): Linear(in_features=600, out_features=512, bias=True)\n",
       "            (intermediate_act_fn): GELUActivation()\n",
       "          )\n",
       "          (output): DebertaV2Output(\n",
       "            (dense): Linear(in_features=512, out_features=600, bias=True)\n",
       "            (LayerNorm): LayerNorm((600,), eps=1e-07, elementwise_affine=True)\n",
       "            (dropout): StableDropout()\n",
       "          )\n",
       "        )\n",
       "      )\n",
       "    )\n",
       "  )\n",
       "  (mu): Linear(in_features=600, out_features=128, bias=True)\n",
       "  (logvar): Linear(in_features=600, out_features=128, bias=True)\n",
       "  (z_to_h): Linear(in_features=128, out_features=512, bias=True)\n",
       "  (decoder): GRU(256, 512, batch_first=True)\n",
       "  (out): Linear(in_features=512, out_features=270, bias=True)\n",
       ")"
      ]
     },
     "execution_count": 5,
     "metadata": {},
     "output_type": "execute_result"
    }
   ],
   "source": [
    "# 推理用保存的模型\n",
    "ckpt = torch.load(repo / \"checkpoints/notebook.pt\", map_location=device)\n",
    "tokenizer = PolyBertTokenizer(ckpt[\"tokenizer_name\"])\n",
    "polybert = AutoModel.from_pretrained(ckpt[\"tokenizer_name\"])\n",
    "model.load_state_dict(ckpt[\"model\"])\n",
    "model.to(device).eval()\n",
    "# 之后可复用 sample_smiles / reconstruct\n"
   ]
  },
  {
   "cell_type": "code",
   "execution_count": 6,
   "id": "29cf62b4",
   "metadata": {},
   "outputs": [
    {
     "name": "stderr",
     "output_type": "stream",
     "text": [
      "/var/folders/zp/7_rwy7bn2vgckz6rtnz6fvp00000gn/T/ipykernel_82329/1561639646.py:8: FutureWarning: You are using `torch.load` with `weights_only=False` (the current default value), which uses the default pickle module implicitly. It is possible to construct malicious pickle data which will execute arbitrary code during unpickling (See https://github.com/pytorch/pytorch/blob/main/SECURITY.md#untrusted-models for more details). In a future release, the default value for `weights_only` will be flipped to `True`. This limits the functions that could be executed during unpickling. Arbitrary objects will no longer be allowed to be loaded via this mode unless they are explicitly allowlisted by the user via `torch.serialization.add_safe_globals`. We recommend you start setting `weights_only=True` for any use case where you don't have full control of the loaded file. Please open an issue on GitHub for any issues related to this experimental feature.\n",
      "  ckpt = torch.load(ckpt_path, map_location=device)\n"
     ]
    },
    {
     "data": {
      "text/plain": [
       "<All keys matched successfully>"
      ]
     },
     "execution_count": 6,
     "metadata": {},
     "output_type": "execute_result"
    }
   ],
   "source": [
    "# 加载模型\n",
    "import torch\n",
    "from src.tokenizer import PolyBertTokenizer\n",
    "from src.model import VAESmiles\n",
    "from transformers import AutoModel\n",
    "\n",
    "ckpt_path = repo / \"checkpoints/notebook.pt\"   # 调整为你保存的路径\n",
    "ckpt = torch.load(ckpt_path, map_location=device)\n",
    "\n",
    "tokenizer = PolyBertTokenizer(ckpt[\"tokenizer_name\"])\n",
    "polybert = AutoModel.from_pretrained(ckpt[\"tokenizer_name\"])\n",
    "\n",
    "model = VAESmiles(\n",
    "    vocab_size=tokenizer.vocab_size,\n",
    "    emb_dim=256,\n",
    "    encoder_hid_dim=polybert.config.hidden_size,\n",
    "    decoder_hid_dim=512,\n",
    "    z_dim=128,\n",
    "    n_layers=1,\n",
    "    pad_id=tokenizer.pad_id,\n",
    "    bos_id=tokenizer.bos_id,\n",
    "    eos_id=tokenizer.eos_id,\n",
    "    drop=0.1,\n",
    "    use_polybert=True,\n",
    "    polybert=polybert,\n",
    "    freeze_polybert=True,\n",
    ").to(device).eval()\n",
    "model.load_state_dict(ckpt[\"model\"])\n",
    "\n"
   ]
  },
  {
   "cell_type": "code",
   "execution_count": 7,
   "id": "4e666db3",
   "metadata": {},
   "outputs": [
    {
     "name": "stdout",
     "output_type": "stream",
     "text": [
      "orig: [*]Oc1ccc2ccc(Oc3ccc4c(c3)C(=O)N(c3cccc(N5C(=O)c6ccc([*])cc6C5=O)c3)C4=O)cc2c1\n",
      "reco: [*]CC([*])(C)C(=O)OCCCCCCCCCCCCCCCCCCCCCCCCCCCCCCCCCCCCCCCCCCCCCCCCCCCCCCCCCCCC\n",
      "\n",
      "orig: [*]C=CC([*])(C)c1ccccc1\n",
      "reco: [*]CC([*])(C)C(=O)OCCCCC\n",
      "\n",
      "orig: [*]C(=O)NCCCCCCCNC(=O)C(OC)C([*])OC\n",
      "reco: [*]CC([*])(C)C(=O)OCCCCCCCCCCCCCCCCC\n",
      "\n",
      "orig: [*]c1ccc(OC(=O)Oc2ccc(C([*])(C)C)cc2CC)c(CC)c1\n",
      "reco: [*]CC([*])(C)C(=O)OCCCCCCCCCCCCCCCCCCCCCCCCCCCC\n",
      "\n"
     ]
    }
   ],
   "source": [
    "# 重构示例\n",
    "import random, pandas as pd\n",
    "\n",
    "df = pd.read_csv(\"data/PSMILES_Tg_only.csv\")\n",
    "subset = random.sample(df[\"PSMILES\"].tolist(), 4)\n",
    "\n",
    "def reconstruct(smiles):\n",
    "    ids = tokenizer.encode(smiles)\n",
    "    inp = torch.tensor(ids, device=device).unsqueeze(0)\n",
    "    mask = (inp != tokenizer.pad_id).long()\n",
    "    mu, logvar = model.encode(inp, mask)\n",
    "    z = model.reparameterize(mu, logvar)\n",
    "    out = model.sample(z, max_len=inp.size(1))\n",
    "    return tokenizer.decode(out.squeeze(0).tolist())\n",
    "\n",
    "for s in subset:\n",
    "    rec = reconstruct(s)\n",
    "    print(f\"orig: {s}\")\n",
    "    print(f\"reco: {rec}\\n\")\n"
   ]
  },
  {
   "cell_type": "code",
   "execution_count": 8,
   "id": "da0aaf31",
   "metadata": {},
   "outputs": [
    {
     "name": "stderr",
     "output_type": "stream",
     "text": [
      "[20:15:55] SMILES Parse Error: unclosed ring for input: '[Xe]c1ccc(Oc2ccc(C(=O)c3ccc(Oc4ccc(C([Xe])(C)C)cc4)cc3)cc2)cc1c1ccccc1c1ccccc1c1ccccc1c1ccccc1c1ccccc1c1ccccc1c1ccccc1c1ccccc1c1ccccc1c1ccccc1c1ccccc1c1ccccc1c1ccccc1c1ccccc1c1ccccc1c1ccccc1c1ccccc1c1ccccc1c1ccccc1c1cccc'\n",
      "[20:15:55] SMILES Parse Error: unclosed ring for input: '[Xe]c1ccc(Oc2ccc(C(=O)c3ccc(Oc4ccc(C([Xe])(C)C)cc4)cc3)cc2)cc1c1ccccc1c1ccccc1c1ccccc1c1ccccc1c1ccccc1c1ccccc1c1ccccc1c1ccccc1c1ccccc1c1ccccc1c1ccccc1c1ccccc1c1ccccc1c1ccccc1c1ccccc1c1ccccc1c1ccccc1c1ccccc1c1ccccc1c1cccc'\n",
      "[20:15:55] SMILES Parse Error: unclosed ring for input: '[Xe]c1ccc(Oc2ccc(C(=O)c3ccc(Oc4ccc(C([Xe])(C)C)cc4)cc3)cc2)cc1c1ccccc1c1ccccc1c1ccccc1c1ccccc1c1ccccc1c1ccccc1c1ccccc1c1ccccc1c1ccccc1c1ccccc1c1ccccc1c1ccccc1c1ccccc1c1ccccc1c1ccccc1c1ccccc1c1ccccc1c1ccccc1c1ccccc1c1cccc'\n",
      "[20:15:55] SMILES Parse Error: unclosed ring for input: '[Xe]c1ccc(Oc2ccc(C(=O)c3ccc(Oc4ccc(C([Xe])(C)C)cc4)cc3)cc2)cc1c1ccccc1c1ccccc1c1ccccc1c1ccccc1c1ccccc1c1ccccc1c1ccccc1c1ccccc1c1ccccc1c1ccccc1c1ccccc1c1ccccc1c1ccccc1c1ccccc1c1ccccc1c1ccccc1c1ccccc1c1ccccc1c1ccccc1c1cccc'\n",
      "[20:15:55] non-ring atom 149 marked aromatic\n",
      "[20:15:55] non-ring atom 149 marked aromatic\n",
      "[20:15:55] SMILES Parse Error: unclosed ring for input: '[Xe]c1ccc(Oc2ccc(C(=O)c3ccc(Oc4ccc(C([Xe])(C)C)cc4)cc3)cc2)cc1c1ccccc1c1ccccc1c1ccccc1c1ccccc1c1ccccc1c1ccccc1c1ccccc1c1ccccc1c1ccccc1c1ccccc1c1ccccc1c1ccccc1c1ccccc1c1ccccc1c1ccccc1c1ccccc1c1ccccc1c1ccccc1c1ccccc1c1cccc'\n",
      "[20:15:55] SMILES Parse Error: unclosed ring for input: '[Xe]c1ccc(Oc2ccc(C(=O)c3ccc(Oc4ccc(C([Xe])(C)C)cc4)cc3)cc2)cc1c1ccccc1c1ccccc1c1ccccc1c1ccccc1c1ccccc1c1ccccc1c1ccccc1c1ccccc1c1ccccc1c1ccccc1c1ccccc1c1ccccc1c1ccccc1c1ccccc1c1ccccc1c1ccccc1c1ccccc1c1ccccc1c1ccccc1c1cccc'\n",
      "[20:15:55] SMILES Parse Error: unclosed ring for input: '[Xe]c1ccc(Oc2ccc(C(=O)c3ccc(Oc4ccc(C([Xe])(C)C)cc4)cc3)cc2)cc1c1ccccc1c1ccccc1c1ccccc1c1ccccc1c1ccccc1c1ccccc1c1ccccc1c1ccccc1c1ccccc1c1ccccc1c1ccccc1c1ccccc1c1ccccc1c1ccccc1c1ccccc1c1ccccc1c1ccccc1c1ccccc1c1ccccc1c1cccc'\n",
      "[20:15:55] SMILES Parse Error: unclosed ring for input: '[Xe]c1ccc(Oc2ccc(C(=O)c3ccc(Oc4ccc(C([Xe])(C)C)cc4)cc3)cc2)cc1c1ccccc1c1ccccc1c1ccccc1c1ccccc1c1ccccc1c1ccccc1c1ccccc1c1ccccc1c1ccccc1c1ccccc1c1ccccc1c1ccccc1c1ccccc1c1ccccc1c1ccccc1c1ccccc1c1ccccc1c1ccccc1c1ccccc1c1cccc'\n",
      "[20:15:55] SMILES Parse Error: unclosed ring for input: '[Xe]Nc1ccc(Oc2ccc(NC(=O)c3ccc(Oc4ccc(C([Xe])=O)cc4)cc3)cc2)cc1c1ccccc1c1ccccc1c1ccccc1c1ccccc1c1ccccc1c1ccccc1c1ccccc1c1ccccc1c1ccccc1c1ccccc1c1ccccc1c1ccccc1c1ccccc1c1ccccc1c1ccccc1c1ccccc1c1ccccc1c1ccccc1c1ccccc1c1cccc'\n",
      "[20:15:55] SMILES Parse Error: unclosed ring for input: '[Xe]Nc1ccc(Oc2ccc(NC(=O)c3ccc(Oc4ccc(C([Xe])=O)cc4)cc3)cc2)cc1c1ccccc1c1ccccc1c1ccccc1c1ccccc1c1ccccc1c1ccccc1c1ccccc1c1ccccc1c1ccccc1c1ccccc1c1ccccc1c1ccccc1c1ccccc1c1ccccc1c1ccccc1c1ccccc1c1ccccc1c1ccccc1c1ccccc1c1cccc'\n",
      "[20:15:55] SMILES Parse Error: unclosed ring for input: '[Xe]c1ccc(Oc2ccc(C(=O)c3ccc(Oc4ccc(C([Xe])(C)C)cc4)cc3)cc2)cc1c1ccccc1c1ccccc1c1ccccc1c1ccccc1c1ccccc1c1ccccc1c1ccccc1c1ccccc1c1ccccc1c1ccccc1c1ccccc1c1ccccc1c1ccccc1c1ccccc1c1ccccc1c1ccccc1c1ccccc1c1ccccc1c1ccccc1c1cccc'\n",
      "[20:15:55] SMILES Parse Error: unclosed ring for input: '[Xe]c1ccc(Oc2ccc(C(=O)c3ccc(Oc4ccc(C([Xe])(C)C)cc4)cc3)cc2)cc1c1ccccc1c1ccccc1c1ccccc1c1ccccc1c1ccccc1c1ccccc1c1ccccc1c1ccccc1c1ccccc1c1ccccc1c1ccccc1c1ccccc1c1ccccc1c1ccccc1c1ccccc1c1ccccc1c1ccccc1c1ccccc1c1ccccc1c1cccc'\n",
      "[20:15:55] non-ring atom 149 marked aromatic\n",
      "[20:15:55] SMILES Parse Error: unclosed ring for input: '[Xe]Nc1ccc(Oc2ccc(NC(=O)c3ccc(Oc4ccc(C([Xe])=O)cc4)cc3)cc2)cc1c1ccccc1c1ccccc1c1ccccc1c1ccccc1c1ccccc1c1ccccc1c1ccccc1c1ccccc1c1ccccc1c1ccccc1c1ccccc1c1ccccc1c1ccccc1c1ccccc1c1ccccc1c1ccccc1c1ccccc1c1ccccc1c1ccccc1c1cccc'\n",
      "[20:15:55] SMILES Parse Error: unclosed ring for input: '[Xe]c1ccc(Oc2ccc(C(=O)c3ccc(Oc4ccc(C([Xe])(C)C)cc4)cc3)cc2)cc1c1ccccc1c1ccccc1c1ccccc1c1ccccc1c1ccccc1c1ccccc1c1ccccc1c1ccccc1c1ccccc1c1ccccc1c1ccccc1c1ccccc1c1ccccc1c1ccccc1c1ccccc1c1ccccc1c1ccccc1c1ccccc1c1ccccc1c1cccc'\n",
      "[20:15:55] SMILES Parse Error: unclosed ring for input: '[Xe]Oc1ccc(Oc2ccc(C(=O)c3ccc(Oc4ccc(C([Xe])(C)C)cc4)cc3)cc2)cc1c1ccccc1c1ccccc1c1ccccc1c1ccccc1c1ccccc1c1ccccc1c1ccccc1c1ccccc1c1ccccc1c1ccccc1c1ccccc1c1ccccc1c1ccccc1c1ccccc1c1ccccc1c1ccccc1c1ccccc1c1ccccc1c1ccccc1c1ccc'\n",
      "[20:15:55] SMILES Parse Error: unclosed ring for input: '[Xe]c1ccc(Oc2ccc(C(=O)c3ccc(Oc4ccc(C([Xe])(C)C)cc4)cc3)cc2)cc1c1ccccc1c1ccccc1c1ccccc1c1ccccc1c1ccccc1c1ccccc1c1ccccc1c1ccccc1c1ccccc1c1ccccc1c1ccccc1c1ccccc1c1ccccc1c1ccccc1c1ccccc1c1ccccc1c1ccccc1c1ccccc1c1ccccc1c1cccc'\n",
      "[20:15:55] SMILES Parse Error: unclosed ring for input: '[Xe]c1ccc(Oc2ccc(C(=O)c3ccc(Oc4ccc(C([Xe])(C)C)cc4)cc3)cc2)cc1c1ccccc1c1ccccc1c1ccccc1c1ccccc1c1ccccc1c1ccccc1c1ccccc1c1ccccc1c1ccccc1c1ccccc1c1ccccc1c1ccccc1c1ccccc1c1ccccc1c1ccccc1c1ccccc1c1ccccc1c1ccccc1c1ccccc1c1cccc'\n",
      "[20:15:55] SMILES Parse Error: unclosed ring for input: '[Xe]C(=O)c1ccc(Oc2ccc(C(=O)c3ccc(Oc4ccc(C([Xe])(C)C)cc4)cc3)cc2)cc1c1ccccc1c1ccccc1c1ccccc1c1ccccc1c1ccccc1c1ccccc1c1ccccc1c1ccccc1c1ccccc1c1ccccc1c1ccccc1c1ccccc1c1ccccc1c1ccccc1c1ccccc1c1ccccc1c1ccccc1c1ccccc1c1ccccc1c1c'\n",
      "[20:15:55] SMILES Parse Error: unclosed ring for input: '[Xe]c1ccc(Oc2ccc(C(=O)c3ccc(Oc4ccc(C([Xe])(C)C)cc4)cc3)cc2)cc1c1ccccc1c1ccccc1c1ccccc1c1ccccc1c1ccccc1c1ccccc1c1ccccc1c1ccccc1c1ccccc1c1ccccc1c1ccccc1c1ccccc1c1ccccc1c1ccccc1c1ccccc1c1ccccc1c1ccccc1c1ccccc1c1ccccc1c1cccc'\n",
      "[20:15:55] SMILES Parse Error: unclosed ring for input: '[Xe]c1ccc(Oc2ccc(C(=O)c3ccc(Oc4ccc(C([Xe])(C)C)cc4)cc3)cc2)cc1c1ccccc1c1ccccc1c1ccccc1c1ccccc1c1ccccc1c1ccccc1c1ccccc1c1ccccc1c1ccccc1c1ccccc1c1ccccc1c1ccccc1c1ccccc1c1ccccc1c1ccccc1c1ccccc1c1ccccc1c1ccccc1c1ccccc1c1cccc'\n",
      "[20:15:55] SMILES Parse Error: unclosed ring for input: '[Xe]c1ccc(Oc2ccc(C(=O)c3ccc(Oc4ccc(C([Xe])(C)C)cc4)cc3)cc2)cc1c1ccccc1c1ccccc1c1ccccc1c1ccccc1c1ccccc1c1ccccc1c1ccccc1c1ccccc1c1ccccc1c1ccccc1c1ccccc1c1ccccc1c1ccccc1c1ccccc1c1ccccc1c1ccccc1c1ccccc1c1ccccc1c1ccccc1c1cccc'\n",
      "[20:15:55] SMILES Parse Error: unclosed ring for input: '[Xe]c1ccc(Oc2ccc(C(=O)c3ccc(Oc4ccc(C([Xe])(C)C)cc4)cc3)cc2)cc1c1ccccc1c1ccccc1c1ccccc1c1ccccc1c1ccccc1c1ccccc1c1ccccc1c1ccccc1c1ccccc1c1ccccc1c1ccccc1c1ccccc1c1ccccc1c1ccccc1c1ccccc1c1ccccc1c1ccccc1c1ccccc1c1ccccc1c1cccc'\n",
      "[20:15:55] SMILES Parse Error: unclosed ring for input: '[Xe]c1ccc(Oc2ccc(C(=O)c3ccc(Oc4ccc(C([Xe])(C)C)cc4)cc3)cc2)cc1c1ccccc1c1ccccc1c1ccccc1c1ccccc1c1ccccc1c1ccccc1c1ccccc1c1ccccc1c1ccccc1c1ccccc1c1ccccc1c1ccccc1c1ccccc1c1ccccc1c1ccccc1c1ccccc1c1ccccc1c1ccccc1c1ccccc1c1cccc'\n",
      "[20:15:55] SMILES Parse Error: unclosed ring for input: '[Xe]c1ccc(Oc2ccc(C(=O)c3ccc(Oc4ccc(C([Xe])(C)C)cc4)cc3)cc2)cc1c1ccccc1c1ccccc1c1ccccc1c1ccccc1c1ccccc1c1ccccc1c1ccccc1c1ccccc1c1ccccc1c1ccccc1c1ccccc1c1ccccc1c1ccccc1c1ccccc1c1ccccc1c1ccccc1c1ccccc1c1ccccc1c1ccccc1c1cccc'\n",
      "[20:15:55] SMILES Parse Error: unclosed ring for input: '[Xe]c1ccc(Oc2ccc(C(=O)c3ccc(Oc4ccc(C([Xe])(C)C)cc4)cc3)cc2)cc1c1ccccc1c1ccccc1c1ccccc1c1ccccc1c1ccccc1c1ccccc1c1ccccc1c1ccccc1c1ccccc1c1ccccc1c1ccccc1c1ccccc1c1ccccc1c1ccccc1c1ccccc1c1ccccc1c1ccccc1c1ccccc1c1ccccc1c1cccc'\n",
      "[20:15:55] SMILES Parse Error: unclosed ring for input: '[Xe]c1ccc(Oc2ccc(C(=O)c3ccc(Oc4ccc(C([Xe])(C)C)cc4)cc3)cc2)cc1c1ccccc1c1ccccc1c1ccccc1c1ccccc1c1ccccc1c1ccccc1c1ccccc1c1ccccc1c1ccccc1c1ccccc1c1ccccc1c1ccccc1c1ccccc1c1ccccc1c1ccccc1c1ccccc1c1ccccc1c1ccccc1c1ccccc1c1cccc'\n",
      "[20:15:55] SMILES Parse Error: unclosed ring for input: '[Xe]c1ccc(Oc2ccc(-c3ccc(Oc4ccc(-c5ccc(Oc6ccc([Xe])cc6)cc5)cc4)cc3)cc2)cc1c1ccccc1c1ccccc1c1ccccc1c1ccccc1c1ccccc1c1ccccc1c1ccccc1c1ccccc1c1ccccc1c1ccccc1c1ccccc1c1ccccc1c1ccccc1c1ccccc1c1ccccc1c1ccccc1c1ccccc1c1ccccc1c1ccc'\n",
      "[20:15:55] SMILES Parse Error: extra close parentheses while parsing: [Xe]c1ccc(Oc2ccc(N3C(=O)c4ccc(C(=O)c5ccc(Oc6ccc(C([Xe])=O)cc6)cc5)cc4)cc3)cc2)cc1c1ccccc1c1ccccc1c1ccccc1c1ccccc1c1ccccc1c1ccccc1c1ccccc1c1ccccc1c1ccccc1c1ccccc1c1ccccc1c1ccccc1c1ccccc1c1ccccc1c1ccccc1c1ccccc1c1ccccc1c1ccccc\n",
      "[20:15:55] SMILES Parse Error: Failed parsing SMILES '[Xe]c1ccc(Oc2ccc(N3C(=O)c4ccc(C(=O)c5ccc(Oc6ccc(C([Xe])=O)cc6)cc5)cc4)cc3)cc2)cc1c1ccccc1c1ccccc1c1ccccc1c1ccccc1c1ccccc1c1ccccc1c1ccccc1c1ccccc1c1ccccc1c1ccccc1c1ccccc1c1ccccc1c1ccccc1c1ccccc1c1ccccc1c1ccccc1c1ccccc1c1ccccc' for input: '[Xe]c1ccc(Oc2ccc(N3C(=O)c4ccc(C(=O)c5ccc(Oc6ccc(C([Xe])=O)cc6)cc5)cc4)cc3)cc2)cc1c1ccccc1c1ccccc1c1ccccc1c1ccccc1c1ccccc1c1ccccc1c1ccccc1c1ccccc1c1ccccc1c1ccccc1c1ccccc1c1ccccc1c1ccccc1c1ccccc1c1ccccc1c1ccccc1c1ccccc1c1ccccc'\n",
      "[20:15:55] SMILES Parse Error: unclosed ring for input: '[Xe]c1ccc(Oc2ccc(C(=O)c3ccc(Oc4ccc(C([Xe])(C)C)cc4)cc3)cc2)cc1c1ccccc1c1ccccc1c1ccccc1c1ccccc1c1ccccc1c1ccccc1c1ccccc1c1ccccc1c1ccccc1c1ccccc1c1ccccc1c1ccccc1c1ccccc1c1ccccc1c1ccccc1c1ccccc1c1ccccc1c1ccccc1c1ccccc1c1cccc'\n",
      "[20:15:55] SMILES Parse Error: unclosed ring for input: '[Xe]c1ccc(Oc2ccc(Oc3ccc(Oc4ccc(-c5ccc(Oc6ccc(Oc7ccc(C([Xe])(C)C)cc7)cc6)cc5)cc4)cc3)cc2)cc1c1ccccc1c1ccccc1c1ccccc1c1ccccc1c1ccccc1c1ccccc1c1ccccc1c1ccccc1c1ccccc1c1ccccc1c1ccccc1c1ccccc1c1ccccc1c1ccccc1c1ccccc1c1ccccc1c1ccccc1c1ccccc1c1c'\n",
      "[20:15:55] non-ring atom 149 marked aromatic\n",
      "[20:15:55] SMILES Parse Error: unclosed ring for input: '[Xe]c1ccc(Oc2ccc(C(=O)c3ccc(Oc4ccc(C([Xe])(C)C)cc4)cc3)cc2)cc1c1ccccc1c1ccccc1c1ccccc1c1ccccc1c1ccccc1c1ccccc1c1ccccc1c1ccccc1c1ccccc1c1ccccc1c1ccccc1c1ccccc1c1ccccc1c1ccccc1c1ccccc1c1ccccc1c1ccccc1c1ccccc1c1ccccc1c1cccc'\n",
      "[20:15:55] SMILES Parse Error: unclosed ring for input: '[Xe]c1ccc(Oc2ccc(C(=O)c3ccc(Oc4ccc(C([Xe])(C)C)cc4)cc3)cc2)cc1c1ccccc1c1ccccc1c1ccccc1c1ccccc1c1ccccc1c1ccccc1c1ccccc1c1ccccc1c1ccccc1c1ccccc1c1ccccc1c1ccccc1c1ccccc1c1ccccc1c1ccccc1c1ccccc1c1ccccc1c1ccccc1c1ccccc1c1ccccc1c1c'\n",
      "[20:15:55] SMILES Parse Error: unclosed ring for input: '[Xe]c1ccc(Oc2ccc(C(=O)c3ccc(Oc4ccc(C([Xe])(C)C)cc4)cc3)cc2)cc1c1ccccc1c1ccccc1c1ccccc1c1ccccc1c1ccccc1c1ccccc1c1ccccc1c1ccccc1c1ccccc1c1ccccc1c1ccccc1c1ccccc1c1ccccc1c1ccccc1c1ccccc1c1ccccc1c1ccccc1c1ccccc1c1ccccc1c1cccc'\n",
      "[20:15:55] SMILES Parse Error: unclosed ring for input: '[Xe]c1ccc(Oc2ccc(C(=O)c3ccc(Oc4ccc(C([Xe])(C)C)cc4)cc3)cc2)cc1c1ccccc1c1ccccc1c1ccccc1c1ccccc1c1ccccc1c1ccccc1c1ccccc1c1ccccc1c1ccccc1c1ccccc1c1ccccc1c1ccccc1c1ccccc1c1ccccc1c1ccccc1c1ccccc1c1ccccc1c1ccccc1c1ccccc1c1cccc'\n",
      "[20:15:55] SMILES Parse Error: unclosed ring for input: '[Xe]c1ccc(OC(=O)c2ccc(C(=O)Oc3ccc(C([Xe])=O)cc3)cc2)cc1c1ccccc1c1ccccc1c1ccccc1c1ccccc1c1ccccc1c1ccccc1c1ccccc1c1ccccc1c1ccccc1c1ccccc1c1ccccc1c1ccccc1c1ccccc1c1ccccc1c1ccccc1c1ccccc1c1ccccc1c1ccccc1c1ccccc1c1ccccc1c1c'\n",
      "[20:15:55] SMILES Parse Error: unclosed ring for input: '[Xe]Oc1ccc(OC(=O)c2ccc(C(=O)Oc3ccc(C([Xe])=O)cc3)cc2)cc1c1ccccc1c1ccccc1c1ccccc1c1ccccc1c1ccccc1c1ccccc1c1ccccc1c1ccccc1c1ccccc1c1ccccc1c1ccccc1c1ccccc1c1ccccc1c1ccccc1c1ccccc1c1ccccc1c1ccccc1c1ccccc1c1ccccc1c1ccccc1c1'\n",
      "[20:15:55] SMILES Parse Error: unclosed ring for input: '[Xe]c1ccc(Oc2ccc(C(=O)c3ccc(Oc4ccc(C([Xe])(C)C)cc4)cc3)cc2)cc1c1ccccc1c1ccccc1c1ccccc1c1ccccc1c1ccccc1c1ccccc1c1ccccc1c1ccccc1c1ccccc1c1ccccc1c1ccccc1c1ccccc1c1ccccc1c1ccccc1c1ccccc1c1ccccc1c1ccccc1c1ccccc1c1ccccc1c1cccc'\n",
      "[20:15:55] SMILES Parse Error: unclosed ring for input: '[Xe]c1ccc(Oc2ccc(C(=O)c3ccc(Oc4ccc(C([Xe])(C)C)cc4)cc3)cc2)cc1c1ccccc1c1ccccc1c1ccccc1c1ccccc1c1ccccc1c1ccccc1c1ccccc1c1ccccc1c1ccccc1c1ccccc1c1ccccc1c1ccccc1c1ccccc1c1ccccc1c1ccccc1c1ccccc1c1ccccc1c1ccccc1c1ccccc1c1cccc'\n",
      "[20:15:55] SMILES Parse Error: unclosed ring for input: '[Xe]c1ccc(Oc2ccc(C(=O)c3ccc(Oc4ccc(C([Xe])(C)C)cc4)cc3)cc2)cc1c1ccccc1c1ccccc1c1ccccc1c1ccccc1c1ccccc1c1ccccc1c1ccccc1c1ccccc1c1ccccc1c1ccccc1c1ccccc1c1ccccc1c1ccccc1c1ccccc1c1ccccc1c1ccccc1c1ccccc1c1ccccc1c1ccccc1c1cccc'\n",
      "[20:15:55] SMILES Parse Error: unclosed ring for input: '[Xe]c1ccc(Oc2ccc(C(=O)c3ccc(Oc4ccc(C([Xe])(C)C)cc4)cc3)cc2)cc1c1ccccc1c1ccccc1c1ccccc1c1ccccc1c1ccccc1c1ccccc1c1ccccc1c1ccccc1c1ccccc1c1ccccc1c1ccccc1c1ccccc1c1ccccc1c1ccccc1c1ccccc1c1ccccc1c1ccccc1c1ccccc1c1ccccc1c1cccc'\n",
      "[20:15:55] SMILES Parse Error: unclosed ring for input: '[Xe]c1ccc(Oc2ccc(C(=O)c3ccc(Oc4ccc(C([Xe])(C)C)cc4)cc3)cc2)cc1c1ccccc1c1ccccc1c1ccccc1c1ccccc1c1ccccc1c1ccccc1c1ccccc1c1ccccc1c1ccccc1c1ccccc1c1ccccc1c1ccccc1c1ccccc1c1ccccc1c1ccccc1c1ccccc1c1ccccc1c1ccccc1c1ccccc1c1cccc'\n",
      "[20:15:55] non-ring atom 149 marked aromatic\n",
      "[20:15:55] SMILES Parse Error: unclosed ring for input: '[Xe]c1ccc(Oc2ccc(C(=O)c3ccc(Oc4ccc(C([Xe])(C)C)cc4)cc3)cc2)cc1c1ccccc1c1ccccc1c1ccccc1c1ccccc1c1ccccc1c1ccccc1c1ccccc1c1ccccc1c1ccccc1c1ccccc1c1ccccc1c1ccccc1c1ccccc1c1ccccc1c1ccccc1c1ccccc1c1ccccc1c1ccccc1c1ccccc1c1cccc'\n",
      "[20:15:55] SMILES Parse Error: unclosed ring for input: '[Xe]c1ccc(Oc2ccc(C(=O)c3ccc(Oc4ccc(C([Xe])(C)C)cc4)cc3)cc2)cc1c1ccccc1c1ccccc1c1ccccc1c1ccccc1c1ccccc1c1ccccc1c1ccccc1c1ccccc1c1ccccc1c1ccccc1c1ccccc1c1ccccc1c1ccccc1c1ccccc1c1ccccc1c1ccccc1c1ccccc1c1ccccc1c1ccccc1c1cccc'\n",
      "[20:15:55] SMILES Parse Error: unclosed ring for input: '[Xe]c1ccc(Oc2ccc(C(=O)c3ccc(Oc4ccc(C([Xe])(C)C)cc4)cc3)cc2)cc1c1ccccc1c1ccccc1c1ccccc1c1ccccc1c1ccccc1c1ccccc1c1ccccc1c1ccccc1c1ccccc1c1ccccc1c1ccccc1c1ccccc1c1ccccc1c1ccccc1c1ccccc1c1ccccc1c1ccccc1c1ccccc1c1ccccc1c1cccc'\n",
      "[20:15:55] SMILES Parse Error: unclosed ring for input: '[Xe]c1ccc(Oc2ccc(C(=O)c3ccc(Oc4ccc(C([Xe])(C)C)cc4)cc3)cc2)cc1c1ccccc1c1ccccc1c1ccccc1c1ccccc1c1ccccc1c1ccccc1c1ccccc1c1ccccc1c1ccccc1c1ccccc1c1ccccc1c1ccccc1c1ccccc1c1ccccc1c1ccccc1c1ccccc1c1ccccc1c1ccccc1c1ccccc1c1cccc'\n",
      "[20:15:55] SMILES Parse Error: unclosed ring for input: '[Xe]c1ccc(Oc2ccc(C(=O)c3ccc(Oc4ccc(C([Xe])(C)C)cc4)cc3)cc2)cc1c1ccccc1c1ccccc1c1ccccc1c1ccccc1c1ccccc1c1ccccc1c1ccccc1c1ccccc1c1ccccc1c1ccccc1c1ccccc1c1ccccc1c1ccccc1c1ccccc1c1ccccc1c1ccccc1c1ccccc1c1ccccc1c1ccccc1c1cccc'\n",
      "[20:15:55] SMILES Parse Error: unclosed ring for input: '[Xe]c1ccc(Oc2ccc(C(=O)c3ccc(Oc4ccc(C([Xe])(C)C)cc4)cc3)cc2)cc1c1ccccc1c1ccccc1c1ccccc1c1ccccc1c1ccccc1c1ccccc1c1ccccc1c1ccccc1c1ccccc1c1ccccc1c1ccccc1c1ccccc1c1ccccc1c1ccccc1c1ccccc1c1ccccc1c1ccccc1c1ccccc1c1ccccc1c1cccc'\n",
      "[20:15:55] SMILES Parse Error: unclosed ring for input: '[Xe]c1ccc(Oc2ccc(C(=O)c3ccc(Oc4ccc(C([Xe])(C)C)cc4)cc3)cc2)cc1c1ccccc1c1ccccc1c1ccccc1c1ccccc1c1ccccc1c1ccccc1c1ccccc1c1ccccc1c1ccccc1c1ccccc1c1ccccc1c1ccccc1c1ccccc1c1ccccc1c1ccccc1c1ccccc1c1ccccc1c1ccccc1c1ccccc1c1cccc'\n",
      "[20:15:55] SMILES Parse Error: unclosed ring for input: '[Xe]c1ccc(Oc2ccc(C(=O)c3ccc(Oc4ccc(C([Xe])(C)C)cc4)cc3)cc2)cc1c1ccccc1c1ccccc1c1ccccc1c1ccccc1c1ccccc1c1ccccc1c1ccccc1c1ccccc1c1ccccc1c1ccccc1c1ccccc1c1ccccc1c1ccccc1c1ccccc1c1ccccc1c1ccccc1c1ccccc1c1ccccc1c1ccccc1c1cccc'\n",
      "[20:15:55] SMILES Parse Error: unclosed ring for input: '[Xe]c1ccc(OC(=O)c2ccc(C(=O)Oc3ccc(C([Xe])=O)cc3)cc2)cc1c1ccccc1c1ccccc1c1ccccc1c1ccccc1c1ccccc1c1ccccc1c1ccccc1c1ccccc1c1ccccc1c1ccccc1c1ccccc1c1ccccc1c1ccccc1c1ccccc1c1ccccc1c1ccccc1c1ccccc1c1ccccc1c1ccccc1c1ccccc1c1c'\n",
      "[20:15:55] SMILES Parse Error: unclosed ring for input: '[Xe]c1ccc(Oc2ccc(C(=O)c3ccc(Oc4ccc(C([Xe])(C)C)cc4)cc3)cc2)cc1c1ccccc1c1ccccc1c1ccccc1c1ccccc1c1ccccc1c1ccccc1c1ccccc1c1ccccc1c1ccccc1c1ccccc1c1ccccc1c1ccccc1c1ccccc1c1ccccc1c1ccccc1c1ccccc1c1ccccc1c1ccccc1c1ccccc1c1cccc'\n",
      "[20:15:55] SMILES Parse Error: unclosed ring for input: '[Xe]c1ccc(Oc2ccc(C(=O)c3ccc(Oc4ccc(C([Xe])(C)C)cc4)cc3)cc2)cc1c1ccccc1c1ccccc1c1ccccc1c1ccccc1c1ccccc1c1ccccc1c1ccccc1c1ccccc1c1ccccc1c1ccccc1c1ccccc1c1ccccc1c1ccccc1c1ccccc1c1ccccc1c1ccccc1c1ccccc1c1ccccc1c1ccccc1c1cccc'\n",
      "[20:15:55] SMILES Parse Error: unclosed ring for input: '[Xe]c1ccc(Oc2ccc(C(=O)c3ccc(Oc4ccc(C([Xe])(C)C)cc4)cc3)cc2)cc1c1ccccc1c1ccccc1c1ccccc1c1ccccc1c1ccccc1c1ccccc1c1ccccc1c1ccccc1c1ccccc1c1ccccc1c1ccccc1c1ccccc1c1ccccc1c1ccccc1c1ccccc1c1ccccc1c1ccccc1c1ccccc1c1ccccc1c1cccc'\n",
      "[20:15:55] SMILES Parse Error: extra close parentheses while parsing: [Xe]c1ccc(Oc2ccc(N3C(=O)c4ccc(C(=O)c5ccc(Oc6ccc(C([Xe])(C)C)cc6)cc5)cc4)cc3)cc2)cc1c1ccccc1c1ccccc1c1ccccc1c1ccccc1c1ccccc1c1ccccc1c1ccccc1c1ccccc1c1ccccc1c1ccccc1c1ccccc1c1ccccc1c1ccccc1c1ccccc1c1ccccc1c1ccccc1c1ccccc1c1ccc\n",
      "[20:15:55] SMILES Parse Error: Failed parsing SMILES '[Xe]c1ccc(Oc2ccc(N3C(=O)c4ccc(C(=O)c5ccc(Oc6ccc(C([Xe])(C)C)cc6)cc5)cc4)cc3)cc2)cc1c1ccccc1c1ccccc1c1ccccc1c1ccccc1c1ccccc1c1ccccc1c1ccccc1c1ccccc1c1ccccc1c1ccccc1c1ccccc1c1ccccc1c1ccccc1c1ccccc1c1ccccc1c1ccccc1c1ccccc1c1ccc' for input: '[Xe]c1ccc(Oc2ccc(N3C(=O)c4ccc(C(=O)c5ccc(Oc6ccc(C([Xe])(C)C)cc6)cc5)cc4)cc3)cc2)cc1c1ccccc1c1ccccc1c1ccccc1c1ccccc1c1ccccc1c1ccccc1c1ccccc1c1ccccc1c1ccccc1c1ccccc1c1ccccc1c1ccccc1c1ccccc1c1ccccc1c1ccccc1c1ccccc1c1ccccc1c1ccc'\n",
      "[20:15:55] SMILES Parse Error: unclosed ring for input: '[Xe]c1ccc(Oc2ccc(C(=O)c3ccc(Oc4ccc(C([Xe])(C)C)cc4)cc3)cc2)cc1c1ccccc1c1ccccc1c1ccccc1c1ccccc1c1ccccc1c1ccccc1c1ccccc1c1ccccc1c1ccccc1c1ccccc1c1ccccc1c1ccccc1c1ccccc1c1ccccc1c1ccccc1c1ccccc1c1ccccc1c1ccccc1c1ccccc1c1cccc'\n",
      "[20:15:55] SMILES Parse Error: unclosed ring for input: '[Xe]c1ccc(Oc2ccc(C(=O)c3ccc(Oc4ccc(C([Xe])(C)C)cc4)cc3)cc2)cc1c1ccccc1c1ccccc1c1ccccc1c1ccccc1c1ccccc1c1ccccc1c1ccccc1c1ccccc1c1ccccc1c1ccccc1c1ccccc1c1ccccc1c1ccccc1c1ccccc1c1ccccc1c1ccccc1c1ccccc1c1ccccc1c1ccccc1c1cccc'\n",
      "[20:15:55] SMILES Parse Error: unclosed ring for input: '[Xe]c1ccc(Oc2ccc(C(=O)c3ccc(Oc4ccc(C([Xe])(C)C)cc4)cc3)cc2)cc1c1ccccc1c1ccccc1c1ccccc1c1ccccc1c1ccccc1c1ccccc1c1ccccc1c1ccccc1c1ccccc1c1ccccc1c1ccccc1c1ccccc1c1ccccc1c1ccccc1c1ccccc1c1ccccc1c1ccccc1c1ccccc1c1ccccc1c1cccc'\n",
      "[20:15:55] SMILES Parse Error: unclosed ring for input: '[Xe]c1ccc(Oc2ccc(C(=O)c3ccc(Oc4ccc(C([Xe])(C)C)cc4)cc3)cc2)cc1c1ccccc1c1ccccc1c1ccccc1c1ccccc1c1ccccc1c1ccccc1c1ccccc1c1ccccc1c1ccccc1c1ccccc1c1ccccc1c1ccccc1c1ccccc1c1ccccc1c1ccccc1c1ccccc1c1ccccc1c1ccccc1c1ccccc1c1cccc'\n",
      "[20:15:55] SMILES Parse Error: unclosed ring for input: '[Xe]c1ccc(Oc2ccc(C(=O)c3ccc(Oc4ccc(C([Xe])(C)C)cc4)cc3)cc2)cc1c1ccccc1c1ccccc1c1ccccc1c1ccccc1c1ccccc1c1ccccc1c1ccccc1c1ccccc1c1ccccc1c1ccccc1c1ccccc1c1ccccc1c1ccccc1c1ccccc1c1ccccc1c1ccccc1c1ccccc1c1ccccc1c1ccccc1c1cccc'\n",
      "[20:15:55] SMILES Parse Error: unclosed ring for input: '[Xe]c1ccc(Oc2ccc(C(=O)c3ccc(Oc4ccc(C([Xe])(C)C)cc4)cc3)cc2)cc1c1ccccc1c1ccccc1c1ccccc1c1ccccc1c1ccccc1c1ccccc1c1ccccc1c1ccccc1c1ccccc1c1ccccc1c1ccccc1c1ccccc1c1ccccc1c1ccccc1c1ccccc1c1ccccc1c1ccccc1c1ccccc1c1ccccc1c1cccc'\n",
      "[20:15:55] SMILES Parse Error: unclosed ring for input: '[Xe]c1ccc(Oc2ccc(C(=O)c3ccc(Oc4ccc(C([Xe])(C)C)cc4)cc3)cc2)cc1c1ccccc1c1ccccc1c1ccccc1c1ccccc1c1ccccc1c1ccccc1c1ccccc1c1ccccc1c1ccccc1c1ccccc1c1ccccc1c1ccccc1c1ccccc1c1ccccc1c1ccccc1c1ccccc1c1ccccc1c1ccccc1c1ccccc1c1ccccc'\n",
      "[20:15:55] SMILES Parse Error: unclosed ring for input: '[Xe]c1ccc(Oc2ccc(C(=O)c3ccc(Oc4ccc(C([Xe])(C)C)cc4)cc3)cc2)cc1c1ccccc1c1ccccc1c1ccccc1c1ccccc1c1ccccc1c1ccccc1c1ccccc1c1ccccc1c1ccccc1c1ccccc1c1ccccc1c1ccccc1c1ccccc1c1ccccc1c1ccccc1c1ccccc1c1ccccc1c1ccccc1c1ccccc1c1cccc'\n",
      "[20:15:55] SMILES Parse Error: unclosed ring for input: '[Xe]c1ccc(Oc2ccc(C(=O)c3ccc(Oc4ccc(C([Xe])(C)C)cc4)cc3)cc2)cc1c1ccccc1c1ccccc1c1ccccc1c1ccccc1c1ccccc1c1ccccc1c1ccccc1c1ccccc1c1ccccc1c1ccccc1c1ccccc1c1ccccc1c1ccccc1c1ccccc1c1ccccc1c1ccccc1c1ccccc1c1ccccc1c1ccccc1c1cccc'\n",
      "[20:15:55] SMILES Parse Error: extra open parentheses for input: '[Xe]Nc1ccc(Oc2ccc(NC(=O)c3ccc(C(=O)c4ccc5c(c4)C(=O)N(c4ccc(Oc5ccc(N6C(=O)c7ccc(C([Xe])=O)cc7C6=O)cc5)cc4)cc3)cc1)C2=Oc1cccc1c1ccccc1CCCCCCCCCCCCCCCCCCCCCCCCCCCCCCCCCCCCCCCCCCCCCCCCCCCCCCCCCCCCCCCCCCCCCCCCCCCCCCCCCCCCCCCCCCCCCCCCCCCCCCCCCCCCCCCCCCCCCCCCC'\n",
      "[20:15:55] SMILES Parse Error: unclosed ring for input: '[Xe]c1ccc(Oc2ccc(C(=O)c3ccc(Oc4ccc(C([Xe])(C)C)cc4)cc3)cc2)cc1c1ccccc1c1ccccc1c1ccccc1c1ccccc1c1ccccc1c1ccccc1c1ccccc1c1ccccc1c1ccccc1c1ccccc1c1ccccc1c1ccccc1c1ccccc1c1ccccc1c1ccccc1c1ccccc1c1ccccc1c1ccccc1c1ccccc1c1cccc'\n",
      "[20:15:55] SMILES Parse Error: unclosed ring for input: '[Xe]c1ccc(Oc2ccc(C(=O)c3ccc(Oc4ccc(C([Xe])(C)C)cc4)cc3)cc2)cc1c1ccccc1c1ccccc1c1ccccc1c1ccccc1c1ccccc1c1ccccc1c1ccccc1c1ccccc1c1ccccc1c1ccccc1c1ccccc1c1ccccc1c1ccccc1c1ccccc1c1ccccc1c1ccccc1c1ccccc1c1ccccc1c1ccccc1c1cccc'\n",
      "[20:15:55] SMILES Parse Error: unclosed ring for input: '[Xe]c1ccc(Oc2ccc(C(=O)c3ccc(Oc4ccc(C([Xe])(C)C)cc4)cc3)cc2)cc1c1ccccc1c1ccccc1c1ccccc1c1ccccc1c1ccccc1c1ccccc1c1ccccc1c1ccccc1c1ccccc1c1ccccc1c1ccccc1c1ccccc1c1ccccc1c1ccccc1c1ccccc1c1ccccc1c1ccccc1c1ccccc1c1ccccc1c1cccc'\n",
      "[20:15:55] SMILES Parse Error: unclosed ring for input: '[Xe]Nc1ccc(Oc2ccc(NC(=O)c3ccc(Oc4ccc(C([Xe])=O)cc4)cc3)cc2)cc1c1ccccc1c1ccccc1c1ccccc1c1ccccc1c1ccccc1c1ccccc1c1ccccc1c1ccccc1c1ccccc1c1ccccc1c1ccccc1c1ccccc1c1ccccc1c1ccccc1c1ccccc1c1ccccc1c1ccccc1c1ccccc1c1ccccc1c1cccc'\n",
      "[20:15:55] SMILES Parse Error: unclosed ring for input: '[Xe]c1ccc(Oc2ccc(C(=O)c3ccc(Oc4ccc(C([Xe])(C)C)cc4)cc3)cc2)cc1c1ccccc1c1ccccc1c1ccccc1c1ccccc1c1ccccc1c1ccccc1c1ccccc1c1ccccc1c1ccccc1c1ccccc1c1ccccc1c1ccccc1c1ccccc1c1ccccc1c1ccccc1c1ccccc1c1ccccc1c1ccccc1c1ccccc1c1cccc'\n",
      "[20:15:55] SMILES Parse Error: unclosed ring for input: '[Xe]c1ccc(Oc2ccc(C(=O)c3ccc(Oc4ccc(C([Xe])(C)C)cc4)cc3)cc2)cc1c1ccccc1c1ccccc1c1ccccc1c1ccccc1c1ccccc1c1ccccc1c1ccccc1c1ccccc1c1ccccc1c1ccccc1c1ccccc1c1ccccc1c1ccccc1c1ccccc1c1ccccc1c1ccccc1c1ccccc1c1ccccc1c1ccccc1c1cccc'\n",
      "[20:15:55] SMILES Parse Error: unclosed ring for input: '[Xe]c1ccc(Oc2ccc(C(=O)c3ccc(Oc4ccc(C([Xe])(C)C)cc4)cc3)cc2)cc1c1ccccc1c1ccccc1c1ccccc1c1ccccc1c1ccccc1c1ccccc1c1ccccc1c1ccccc1c1ccccc1c1ccccc1c1ccccc1c1ccccc1c1ccccc1c1ccccc1c1ccccc1c1ccccc1c1ccccc1c1ccccc1c1ccccc1c1cccc'\n",
      "[20:15:55] SMILES Parse Error: unclosed ring for input: '[Xe]c1ccc(Oc2ccc(C(=O)c3ccc(Oc4ccc(C([Xe])(C)C)cc4)cc3)cc2)cc1c1ccccc1c1ccccc1c1ccccc1c1ccccc1c1ccccc1c1ccccc1c1ccccc1c1ccccc1c1ccccc1c1ccccc1c1ccccc1c1ccccc1c1ccccc1c1ccccc1c1ccccc1c1ccccc1c1ccccc1c1ccccc1c1ccccc1c1cccc'\n",
      "[20:15:55] SMILES Parse Error: unclosed ring for input: '[Xe]C(=O)c1ccc(Oc2ccc(C(=O)c3ccc(Oc4ccc(C([Xe])(C)C)cc4)cc3)cc2)cc1c1ccccc1c1ccccc1c1ccccc1c1ccccc1c1ccccc1c1ccccc1c1ccccc1c1ccccc1c1ccccc1c1ccccc1c1ccccc1c1ccccc1c1ccccc1c1ccccc1c1ccccc1c1ccccc1c1ccccc1c1ccccc1c1ccccc1c1'\n",
      "[20:15:55] non-ring atom 149 marked aromatic\n",
      "[20:15:55] SMILES Parse Error: unclosed ring for input: '[Xe]c1ccc(Oc2ccc(C(=O)c3ccc(Oc4ccc(C([Xe])(C)C)cc4)cc3)cc2)cc1c1ccccc1c1ccccc1c1ccccc1c1ccccc1c1ccccc1c1ccccc1c1ccccc1c1ccccc1c1ccccc1c1ccccc1c1ccccc1c1ccccc1c1ccccc1c1ccccc1c1ccccc1c1ccccc1c1ccccc1c1ccccc1c1ccccc1c1cccc'\n",
      "[20:15:55] SMILES Parse Error: unclosed ring for input: '[Xe]c1ccc(Oc2ccc(C(=O)c3ccc(Oc4ccc(C([Xe])(C)C)cc4)cc3)cc2)cc1c1ccccc1c1ccccc1c1ccccc1c1ccccc1c1ccccc1c1ccccc1c1ccccc1c1ccccc1c1ccccc1c1ccccc1c1ccccc1c1ccccc1c1ccccc1c1ccccc1c1ccccc1c1ccccc1c1ccccc1c1ccccc1c1ccccc1c1cccc'\n",
      "[20:15:56] non-ring atom 149 marked aromatic\n",
      "[20:15:56] SMILES Parse Error: unclosed ring for input: '[Xe]Oc1ccc(Oc2ccc(C(=O)c3ccc(Oc4ccc(C([Xe])(C)C)cc4)cc3)cc2)cc1c1ccccc1c1ccccc1c1ccccc1c1ccccc1c1ccccc1c1ccccc1c1ccccc1c1ccccc1c1ccccc1c1ccccc1c1ccccc1c1ccccc1c1ccccc1c1ccccc1c1ccccc1c1ccccc1c1ccccc1c1ccccc1c1ccccc1c1ccc'\n",
      "[20:15:56] SMILES Parse Error: unclosed ring for input: '[Xe]Nc1ccc(Oc2ccc(NC(=O)c3ccc(Oc4ccc(C([Xe])=O)cc4)cc3)cc2)cc1c1ccccc1c1ccccc1c1ccccc1c1ccccc1c1ccccc1c1ccccc1c1ccccc1c1ccccc1c1ccccc1c1ccccc1c1ccccc1c1ccccc1c1ccccc1c1ccccc1c1ccccc1c1ccccc1c1ccccc1c1ccccc1c1ccccc1c1cccc'\n",
      "[20:15:56] SMILES Parse Error: unclosed ring for input: '[Xe]c1ccc(Oc2ccc(C(=O)c3ccc(Oc4ccc(C([Xe])(C)C)cc4)cc3)cc2)cc1c1ccccc1c1ccccc1c1ccccc1c1ccccc1c1ccccc1c1ccccc1c1ccccc1c1ccccc1c1ccccc1c1ccccc1c1ccccc1c1ccccc1c1ccccc1c1ccccc1c1ccccc1c1ccccc1c1ccccc1c1ccccc1c1ccccc1c1cccc'\n",
      "[20:15:56] SMILES Parse Error: unclosed ring for input: '[Xe]c1ccc(Oc2ccc(C(=O)c3ccc(Oc4ccc(C([Xe])(C)C)cc4)cc3)cc2)cc1c1ccccc1c1ccccc1c1ccccc1c1ccccc1c1ccccc1c1ccccc1c1ccccc1c1ccccc1c1ccccc1c1ccccc1c1ccccc1c1ccccc1c1ccccc1c1ccccc1c1ccccc1c1ccccc1c1ccccc1c1ccccc1c1ccccc1c1cccc'\n",
      "[20:15:56] SMILES Parse Error: unclosed ring for input: '[Xe]c1ccc(Oc2ccc(C(=O)c3ccc(Oc4ccc(C([Xe])(C)C)cc4)cc3)cc2)cc1c1ccccc1c1ccccc1c1ccccc1c1ccccc1c1ccccc1c1ccccc1c1ccccc1c1ccccc1c1ccccc1c1ccccc1c1ccccc1c1ccccc1c1ccccc1c1ccccc1c1ccccc1c1ccccc1c1ccccc1c1ccccc1c1ccccc1c1cccc'\n",
      "[20:15:56] SMILES Parse Error: unclosed ring for input: '[Xe]c1ccc(Oc2ccc(NC(=O)c3ccc(Oc4ccc(C([Xe])=O)cc4)cc3)cc2)cc1c1ccccc1c1ccccc1c1ccccc1c1ccccc1c1ccccc1c1ccccc1c1ccccc1c1ccccc1c1ccccc1c1ccccc1c1ccccc1c1ccccc1c1ccccc1c1ccccc1c1ccccc1c1ccccc1c1ccccc1c1ccccc1c1ccccc1c1ccccc'\n",
      "[20:15:56] SMILES Parse Error: unclosed ring for input: '[Xe]c1ccc(Oc2ccc(C(=O)c3ccc(Oc4ccc(C([Xe])(C)C)cc4)cc3)cc2)cc1c1ccccc1c1ccccc1c1ccccc1c1ccccc1c1ccccc1c1ccccc1c1ccccc1c1ccccc1c1ccccc1c1ccccc1c1ccccc1c1ccccc1c1ccccc1c1ccccc1c1ccccc1c1ccccc1c1ccccc1c1ccccc1c1ccccc1c1cccc'\n",
      "[20:15:56] SMILES Parse Error: unclosed ring for input: '[Xe]c1ccc(Oc2ccc(C(=O)c3ccc(Oc4ccc(C([Xe])(C)C)cc4)cc3)cc2)cc1c1ccccc1c1ccccc1c1ccccc1c1ccccc1c1ccccc1c1ccccc1c1ccccc1c1ccccc1c1ccccc1c1ccccc1c1ccccc1c1ccccc1c1ccccc1c1ccccc1c1ccccc1c1ccccc1c1ccccc1c1ccccc1c1ccccc1c1cccc'\n",
      "[20:15:56] SMILES Parse Error: unclosed ring for input: '[Xe]c1ccc(Oc2ccc(C(=O)c3ccc(Oc4ccc(C([Xe])(C)C)cc4)cc3)cc2)cc1c1ccccc1c1ccccc1c1ccccc1c1ccccc1c1ccccc1c1ccccc1c1ccccc1c1ccccc1c1ccccc1c1ccccc1c1ccccc1c1ccccc1c1ccccc1c1ccccc1c1ccccc1c1ccccc1c1ccccc1c1ccccc1c1ccccc1c1cccc'\n",
      "[20:15:56] SMILES Parse Error: unclosed ring for input: '[Xe]c1ccc(Oc2ccc(C(=O)c3ccc(Oc4ccc(C([Xe])(C)C)cc4)cc3)cc2)cc1c1ccccc1c1ccccc1c1ccccc1c1ccccc1c1ccccc1c1ccccc1c1ccccc1c1ccccc1c1ccccc1c1ccccc1c1ccccc1c1ccccc1c1ccccc1c1ccccc1c1ccccc1c1ccccc1c1ccccc1c1ccccc1c1ccccc1c1cccc'\n",
      "[20:15:56] SMILES Parse Error: unclosed ring for input: '[Xe]c1ccc(Oc2ccc(Oc3ccc(Oc4ccc(Oc5ccc(Oc6ccc(C([Xe])(C)C)cc6)cc5)cc4)cc3)cc2)cc1c1ccccc1c1ccccc1c1ccccc1c1ccccc1c1ccccc1c1ccccc1c1ccccc1c1ccccc1c1ccccc1c1ccccc1c1ccccc1c1ccccc1c1ccccc1c1ccccc1c1ccccc1c1ccccc1c1ccccc1c1ccccc1c1ccccc1c1ccc'\n",
      "[20:15:56] SMILES Parse Error: unclosed ring for input: '[Xe]c1ccc(Oc2ccc(C(=O)c3ccc(Oc4ccc(C([Xe])(C)C)cc4)cc3)cc2)cc1c1ccccc1c1ccccc1c1ccccc1c1ccccc1c1ccccc1c1ccccc1c1ccccc1c1ccccc1c1ccccc1c1ccccc1c1ccccc1c1ccccc1c1ccccc1c1ccccc1c1ccccc1c1ccccc1c1ccccc1c1ccccc1c1ccccc1c1cccc'\n",
      "[20:15:56] SMILES Parse Error: unclosed ring for input: '[Xe]c1ccc(Oc2ccc(C(=O)c3ccc(Oc4ccc(C([Xe])(C)C)cc4)cc3)cc2)cc1c1ccccc1c1ccccc1c1ccccc1c1ccccc1c1ccccc1c1ccccc1c1ccccc1c1ccccc1c1ccccc1c1ccccc1c1ccccc1c1ccccc1c1ccccc1c1ccccc1c1ccccc1c1ccccc1c1ccccc1c1ccccc1c1ccccc1c1cccc'\n",
      "[20:15:56] SMILES Parse Error: unclosed ring for input: '[Xe]c1ccc(Oc2ccc(Oc3ccc(Oc4ccc(-c5ccc(Oc6ccc(N7C(=O)c7ccc(C([Xe])=O)cc7)cc6)cc5)cc4)cc3)cc2)cc1c1ccccc1c1ccccc1c1ccccc1c1ccccc1c1ccccc1c1ccccc1c1ccccc1c1ccccc1c1ccccc1c1ccccc1c1ccccc1c1ccccc1c1ccccc1c1ccccc1c1ccccc1c1ccccc1c1c'\n",
      "[20:15:56] SMILES Parse Error: extra open parentheses for input: '[Xe]Nc1ccc(Oc2ccc(NC(=O)c3ccc(C(=O)c4ccc5c(c4)C(=O)N(c4ccc(Oc5ccc(NC(=O)c6ccc([Xe])cc6C5=O)cc4)cc3)cc1)C2=Oc1cccc1c1ccccc1CCCCCCCCCCCCCCCCCCCCCCCCCCCCCCCCCCCCCCCCCCCCCCCCCCCCCCCCCCCCCCCCCCCCCCCCCCCCCCCCCCCCCCCCCCCCCCCCCCCCCCCCCCCCCCCCCCCCCCCCCCCCCCCCCCC'\n",
      "[20:15:56] SMILES Parse Error: unclosed ring for input: '[Xe]c1ccc(Oc2ccc(C(=O)c3ccc(Oc4ccc(C([Xe])(C)C)cc4)cc3)cc2)cc1c1ccccc1c1ccccc1c1ccccc1c1ccccc1c1ccccc1c1ccccc1c1ccccc1c1ccccc1c1ccccc1c1ccccc1c1ccccc1c1ccccc1c1ccccc1c1ccccc1c1ccccc1c1ccccc1c1ccccc1c1ccccc1c1ccccc1c1cccc'\n",
      "[20:15:56] SMILES Parse Error: unclosed ring for input: '[Xe]c1ccc(Oc2ccc(C(=O)c3ccc(Oc4ccc(C([Xe])(C)C)cc4)cc3)cc2)cc1c1ccccc1c1ccccc1c1ccccc1c1ccccc1c1ccccc1c1ccccc1c1ccccc1c1ccccc1c1ccccc1c1ccccc1c1ccccc1c1ccccc1c1ccccc1c1ccccc1c1ccccc1c1ccccc1c1ccccc1c1ccccc1c1ccccc1c1cccc'\n",
      "[20:15:56] non-ring atom 149 marked aromatic\n",
      "[20:15:56] SMILES Parse Error: unclosed ring for input: '[Xe]c1ccc(Oc2ccc(C(=O)c3ccc(Oc4ccc(C([Xe])(C)C)cc4)cc3)cc2)cc1c1ccccc1c1ccccc1c1ccccc1c1ccccc1c1ccccc1c1ccccc1c1ccccc1c1ccccc1c1ccccc1c1ccccc1c1ccccc1c1ccccc1c1ccccc1c1ccccc1c1ccccc1c1ccccc1c1ccccc1c1ccccc1c1ccccc1c1cccc'\n",
      "[20:15:56] SMILES Parse Error: unclosed ring for input: '[Xe]c1ccc(Oc2ccc(C(=O)c3ccc(Oc4ccc(C([Xe])(C)C)cc4)cc3)cc2)cc1c1ccccc1c1ccccc1c1ccccc1c1ccccc1c1ccccc1c1ccccc1c1ccccc1c1ccccc1c1ccccc1c1ccccc1c1ccccc1c1ccccc1c1ccccc1c1ccccc1c1ccccc1c1ccccc1c1ccccc1c1ccccc1c1ccccc1c1cccc'\n",
      "[20:15:56] SMILES Parse Error: unclosed ring for input: '[Xe]c1ccc(Oc2ccc(C(=O)c3ccc(Oc4ccc(C([Xe])(C)C)cc4)cc3)cc2)cc1c1ccccc1c1ccccc1c1ccccc1c1ccccc1c1ccccc1c1ccccc1c1ccccc1c1ccccc1c1ccccc1c1ccccc1c1ccccc1c1ccccc1c1ccccc1c1ccccc1c1ccccc1c1ccccc1c1ccccc1c1ccccc1c1ccccc1c1cccc'\n",
      "[20:15:56] SMILES Parse Error: unclosed ring for input: '[Xe]c1ccc(Oc2ccc(Oc3ccc(Oc4ccc(C([Xe])(C)C)cc4)cc3)cc2)cc1c1ccccc1c1ccccc1c1ccccc1c1ccccc1c1ccccc1c1ccccc1c1ccccc1c1ccccc1c1ccccc1c1ccccc1c1ccccc1c1ccccc1c1ccccc1c1ccccc1c1ccccc1c1ccccc1c1ccccc1c1ccccc1c1ccccc1c1ccccc1c1'\n",
      "[20:15:56] SMILES Parse Error: unclosed ring for input: '[Xe]c1ccc(Oc2ccc(C(=O)c3ccc(Oc4ccc(C([Xe])(C)C)cc4)cc3)cc2)cc1c1ccccc1c1ccccc1c1ccccc1c1ccccc1c1ccccc1c1ccccc1c1ccccc1c1ccccc1c1ccccc1c1ccccc1c1ccccc1c1ccccc1c1ccccc1c1ccccc1c1ccccc1c1ccccc1c1ccccc1c1ccccc1c1ccccc1c1cccc'\n"
     ]
    },
    {
     "name": "stdout",
     "output_type": "stream",
     "text": [
      "Validity: 0.771\n",
      "Uniqueness: 0.051\n",
      "Novelty: 1.000\n"
     ]
    },
    {
     "name": "stderr",
     "output_type": "stream",
     "text": [
      "[20:15:56] SMILES Parse Error: unclosed ring for input: '[Xe]c1ccc(Oc2ccc(C(=O)c3ccc(Oc4ccc(C([Xe])(C)C)cc4)cc3)cc2)cc1c1ccccc1c1ccccc1c1ccccc1c1ccccc1c1ccccc1c1ccccc1c1ccccc1c1ccccc1c1ccccc1c1ccccc1c1ccccc1c1ccccc1c1ccccc1c1ccccc1c1ccccc1c1ccccc1c1ccccc1c1ccccc1c1ccccc1c1cccc'\n",
      "[20:15:56] SMILES Parse Error: unclosed ring for input: '[Xe]c1ccc(Oc2ccc(C(=O)c3ccc(Oc4ccc(C([Xe])(C)C)cc4)cc3)cc2)cc1c1ccccc1c1ccccc1c1ccccc1c1ccccc1c1ccccc1c1ccccc1c1ccccc1c1ccccc1c1ccccc1c1ccccc1c1ccccc1c1ccccc1c1ccccc1c1ccccc1c1ccccc1c1ccccc1c1ccccc1c1ccccc1c1ccccc1c1cccc'\n",
      "[20:15:56] SMILES Parse Error: unclosed ring for input: '[Xe]c1ccc(Oc2ccc(C(=O)c3ccc(Oc4ccc(C([Xe])(C)C)cc4)cc3)cc2)cc1c1ccccc1c1ccccc1c1ccccc1c1ccccc1c1ccccc1c1ccccc1c1ccccc1c1ccccc1c1ccccc1c1ccccc1c1ccccc1c1ccccc1c1ccccc1c1ccccc1c1ccccc1c1ccccc1c1ccccc1c1ccccc1c1ccccc1c1cccc'\n",
      "[20:15:56] SMILES Parse Error: unclosed ring for input: '[Xe]c1ccc(Oc2ccc(C(=O)c3ccc(Oc4ccc(C([Xe])(C)C)cc4)cc3)cc2)cc1c1ccccc1c1ccccc1c1ccccc1c1ccccc1c1ccccc1c1ccccc1c1ccccc1c1ccccc1c1ccccc1c1ccccc1c1ccccc1c1ccccc1c1ccccc1c1ccccc1c1ccccc1c1ccccc1c1ccccc1c1ccccc1c1ccccc1c1cccc'\n",
      "[20:15:56] SMILES Parse Error: unclosed ring for input: '[Xe]c1ccc(Oc2ccc(C(=O)c3ccc(Oc4ccc(C([Xe])(C)C)cc4)cc3)cc2)cc1c1ccccc1c1ccccc1c1ccccc1c1ccccc1c1ccccc1c1ccccc1c1ccccc1c1ccccc1c1ccccc1c1ccccc1c1ccccc1c1ccccc1c1ccccc1c1ccccc1c1ccccc1c1ccccc1c1ccccc1c1ccccc1c1ccccc1c1cccc'\n",
      "[20:15:56] SMILES Parse Error: unclosed ring for input: '[Xe]c1ccc(Oc2ccc(C(=O)c3ccc(Oc4ccc(C([Xe])(C)C)cc4)cc3)cc2)cc1c1ccccc1c1ccccc1c1ccccc1c1ccccc1c1ccccc1c1ccccc1c1ccccc1c1ccccc1c1ccccc1c1ccccc1c1ccccc1c1ccccc1c1ccccc1c1ccccc1c1ccccc1c1ccccc1c1ccccc1c1ccccc1c1ccccc1c1cccc'\n",
      "[20:15:56] SMILES Parse Error: unclosed ring for input: '[Xe]c1ccc(Oc2ccc(C(=O)c3ccc(Oc4ccc(C([Xe])(C)C)cc4)cc3)cc2)cc1c1ccccc1c1ccccc1c1ccccc1c1ccccc1c1ccccc1c1ccccc1c1ccccc1c1ccccc1c1ccccc1c1ccccc1c1ccccc1c1ccccc1c1ccccc1c1ccccc1c1ccccc1c1ccccc1c1ccccc1c1ccccc1c1ccccc1c1cccc'\n",
      "[20:15:56] SMILES Parse Error: unclosed ring for input: '[Xe]c1ccc(Oc2ccc(C(=O)c3ccc(Oc4ccc(C([Xe])(C)C)cc4)cc3)cc2)cc1c1ccccc1c1ccccc1c1ccccc1c1ccccc1c1ccccc1c1ccccc1c1ccccc1c1ccccc1c1ccccc1c1ccccc1c1ccccc1c1ccccc1c1ccccc1c1ccccc1c1ccccc1c1ccccc1c1ccccc1c1ccccc1c1ccccc1c1cccc'\n",
      "[20:15:56] SMILES Parse Error: unclosed ring for input: '[Xe]c1ccc(Oc2ccc(C(=O)c3ccc(Oc4ccc(C([Xe])(C)C)cc4)cc3)cc2)cc1c1ccccc1c1ccccc1c1ccccc1c1ccccc1c1ccccc1c1ccccc1c1ccccc1c1ccccc1c1ccccc1c1ccccc1c1ccccc1c1ccccc1c1ccccc1c1ccccc1c1ccccc1c1ccccc1c1ccccc1c1ccccc1c1ccccc1c1cccc'\n",
      "[20:15:56] SMILES Parse Error: unclosed ring for input: '[Xe]c1ccc(Oc2ccc(C(=O)c3ccc(Oc4ccc(C([Xe])(C)C)cc4)cc3)cc2)cc1c1ccccc1c1ccccc1c1ccccc1c1ccccc1c1ccccc1c1ccccc1c1ccccc1c1ccccc1c1ccccc1c1ccccc1c1ccccc1c1ccccc1c1ccccc1c1ccccc1c1ccccc1c1ccccc1c1ccccc1c1ccccc1c1ccccc1c1cccc'\n",
      "[20:15:56] SMILES Parse Error: unclosed ring for input: '[Xe]c1ccc(Oc2ccc(C(=O)c3ccc(Oc4ccc(C([Xe])(C)C)cc4)cc3)cc2)cc1c1ccccc1c1ccccc1c1ccccc1c1ccccc1c1ccccc1c1ccccc1c1ccccc1c1ccccc1c1ccccc1c1ccccc1c1ccccc1c1ccccc1c1ccccc1c1ccccc1c1ccccc1c1ccccc1c1ccccc1c1ccccc1c1ccccc1c1ccccc'\n",
      "[20:15:56] SMILES Parse Error: unclosed ring for input: '[Xe]c1ccc(Oc2ccc(C(=O)c3ccc(Oc4ccc(C([Xe])(C)C)cc4)cc3)cc2)cc1c1ccccc1c1ccccc1c1ccccc1c1ccccc1c1ccccc1c1ccccc1c1ccccc1c1ccccc1c1ccccc1c1ccccc1c1ccccc1c1ccccc1c1ccccc1c1ccccc1c1ccccc1c1ccccc1c1ccccc1c1ccccc1c1ccccc1c1cccc'\n"
     ]
    }
   ],
   "source": [
    "# 随机生成指标\n",
    "from rdkit import Chem\n",
    "\n",
    "@torch.no_grad() # 推理阶段不记录梯度，省显存、提速\n",
    "def sample_smiles(num=256, max_len=256):\n",
    "    z = torch.randn(num, model.mu.out_features, device=device) # 从标准正态分布采样潜变量 z\n",
    "    token_ids = model.sample(z, max_len=max_len) # 让模型在潜变量条件下生成 token 序列\n",
    "    return [tokenizer.decode(row.tolist()) for row in token_ids.cpu()]\n",
    "\n",
    "gen = sample_smiles(num=512) # 一次性生成 512 个 SMILES 字符串（可能包含无效或重复）\n",
    "def to_rdkit(smiles):\n",
    "    return Chem.MolFromSmiles(smiles.replace(\"[*]\", \"[Xe]\")) # 把 [*] 替换为 [Xe] 再交给 RDKit 解析\n",
    "\n",
    "valid = [s for s in gen if to_rdkit(s)]\n",
    "validity = len(valid) / len(gen) # 对每个生成的 SMILES 调 to_rdkit，能解析就当作有效\n",
    "uniqueness = len(set(gen)) / len(gen) # 计算生成集合中不重复 SMILES 的比例\n",
    "train_set = set(df[\"PSMILES\"].astype(str)) # 训练集中所有 SMILES 的集合\n",
    "novelty = len([s for s in set(gen) if s not in train_set]) / max(len(set(gen)), 1) # 计算生成集合中不在训练集的比例\n",
    "\n",
    "print(f\"Validity: {validity:.3f}\")\n",
    "print(f\"Uniqueness: {uniqueness:.3f}\")\n",
    "print(f\"Novelty: {novelty:.3f}\")\n"
   ]
  },
  {
   "cell_type": "code",
   "execution_count": 9,
   "id": "54e57052",
   "metadata": {},
   "outputs": [
    {
     "name": "stdout",
     "output_type": "stream",
     "text": [
      "length of valid: 395\n",
      "\n",
      "Some valid generated SMILES: [*]CC([*])(C)C(=O)OCCCCCCCCCCCCCCCCCCCCCCCCCCCCCCCCCCCCCCCCCCCCCCCCCCCCCCCCCCCCCCCCCCCCCCCCCCCCCCCCCCCCCCCCCCCCCCCCCCCCCCCCCCCCCCCCCCCCCCCCCCCCCCCCCCCCCCCCCCCCCCCCCCCCCCCCCCCCCCCCCCCCCCCCCCCCCCCCCCCCCCCCCCCCCCCCCCCCCCCCCCCCCCCCCCCCCCCCCCCCCCCCCCCCCCCCCCCCCCC\n",
      "Number of unique valid SMILES: 5\n",
      "\n",
      "Some valid generated SMILES: {'[*]CCCCCCCCCCCCCCCCCCCCCCCCCCCCCCCCCCCCCCCCCCCCCCCCCCCCCCCCCCCCCCCCCCCCCCCCCCCCCCCCCCCCCCCCCCCCCCCCCCCCCCCCCCCCCCCCCCCCCCCCCCCCCCCCCCCCCCCCCCCCCCCCCCCCCCCCCCCCCCCCCCCCCCCCCCCCCCCCCCCCCCCCCCCCCCCCCCCCCCCCCCCCCCCCCCCCCCCCCCCCCCCCCCCCCCCCCCCCCCCCCCCCCCCCCCCCC', '[*]c1ccc(Oc2ccc(Oc3ccc(Oc4ccc(C([*])(C)C)cc4)cc3)cc2)cc1c1ccccc1c1ccccc1c1ccccc1c1ccccc1c1ccccc1c1ccccc1c1ccccc1c1ccccc1c1ccccc1c1ccccc1c1ccccc1c1ccccc1c1ccccc1c1ccccc1c1ccccc1c1ccccc1c1ccccc1c1ccccc1c1ccccc1c1ccccc1', '[*]Nc1ccc(Oc2ccc(NC(=O)c3ccc(Oc4ccc(C(=O)c5ccc(Oc6ccc(C([*])=O)cc6)cc5)cc4)cc3)cc2)cc1c1ccccc1c1ccccc1c1ccccc1c1ccccc1c1ccccc1c1ccccc1c1ccccc1c1ccccc1c1ccccc1c1ccccc1c1ccccc1c1ccccc1c1ccccc1c1ccccc1c1ccccc1c1ccccc1c1ccccc1', '[*]c1ccc(Oc2ccc(NC(=O)c3ccc(Oc4ccc(C(=O)c5ccc(Oc6ccc(C([*])(C)C)cc6)cc5)cc4)cc3)cc2)cc1c1ccccc1c1ccccc1c1ccccc1c1ccccc1c1ccccc1c1ccccc1c1ccccc1c1ccccc1c1ccccc1c1ccccc1c1ccccc1c1ccccc1c1ccccc1c1ccccc1c1ccccc1c1ccccc1c1ccccc1', '[*]CC([*])(C)C(=O)OCCCCCCCCCCCCCCCCCCCCCCCCCCCCCCCCCCCCCCCCCCCCCCCCCCCCCCCCCCCCCCCCCCCCCCCCCCCCCCCCCCCCCCCCCCCCCCCCCCCCCCCCCCCCCCCCCCCCCCCCCCCCCCCCCCCCCCCCCCCCCCCCCCCCCCCCCCCCCCCCCCCCCCCCCCCCCCCCCCCCCCCCCCCCCCCCCCCCCCCCCCCCCCCCCCCCCCCCCCCCCCCCCCCCCCCCCCCCCCC'}\n"
     ]
    }
   ],
   "source": [
    "print(\"length of valid:\",len(valid))\n",
    "print(\"\\nSome valid generated SMILES:\", valid[1])\n",
    "unique_valid = set(valid)\n",
    "print(\"Number of unique valid SMILES:\", len(unique_valid))\n",
    "print(\"\\nSome valid generated SMILES:\", unique_valid)"
   ]
  },
  {
   "cell_type": "code",
   "execution_count": 14,
   "id": "ecd29c81",
   "metadata": {},
   "outputs": [
    {
     "name": "stderr",
     "output_type": "stream",
     "text": [
      "[20:17:42] UFFTYPER: Unrecognized atom type: Xe3+4 (0)\n",
      "[20:17:42] UFFTYPER: Unrecognized atom type: Xe3+4 (3)\n",
      "[20:18:00] UFFTYPER: Unrecognized atom type: Xe3+4 (0)\n",
      "[20:18:00] UFFTYPER: Unrecognized atom type: Xe3+4 (3)\n"
     ]
    },
    {
     "ename": "ValueError",
     "evalue": "Bad Conformer Id",
     "output_type": "error",
     "traceback": [
      "\u001b[0;31m---------------------------------------------------------------------------\u001b[0m",
      "\u001b[0;31mValueError\u001b[0m                                Traceback (most recent call last)",
      "Cell \u001b[0;32mIn[14], line 8\u001b[0m\n\u001b[1;32m      6\u001b[0m mol_h \u001b[38;5;241m=\u001b[39m Chem\u001b[38;5;241m.\u001b[39mAddHs(mol)  \u001b[38;5;66;03m# 添加氢原子\u001b[39;00m\n\u001b[1;32m      7\u001b[0m AllChem\u001b[38;5;241m.\u001b[39mEmbedMolecule(mol_h, AllChem\u001b[38;5;241m.\u001b[39mETKDG())  \u001b[38;5;66;03m# 3D构型嵌入\u001b[39;00m\n\u001b[0;32m----> 8\u001b[0m \u001b[43mAllChem\u001b[49m\u001b[38;5;241;43m.\u001b[39;49m\u001b[43mUFFOptimizeMolecule\u001b[49m\u001b[43m(\u001b[49m\u001b[43mmol_h\u001b[49m\u001b[43m)\u001b[49m  \u001b[38;5;66;03m# UFF力场优化\u001b[39;00m\n\u001b[1;32m      9\u001b[0m Draw\u001b[38;5;241m.\u001b[39mMolToFile(mol_h, \u001b[38;5;124m\"\u001b[39m\u001b[38;5;124mgenerated_molecule.png\u001b[39m\u001b[38;5;124m\"\u001b[39m, size\u001b[38;5;241m=\u001b[39m(\u001b[38;5;241m300\u001b[39m, \u001b[38;5;241m300\u001b[39m))\n",
      "\u001b[0;31mValueError\u001b[0m: Bad Conformer Id"
     ]
    }
   ],
   "source": [
    "# 使用生成的 SMILES 进行3D建模\n",
    "from rdkit.Chem import AllChem\n",
    "from rdkit.Chem import Draw\n",
    "smi = valid[0]\n",
    "mol = to_rdkit(smi)\n",
    "mol_h = Chem.AddHs(mol)  # 添加氢原子\n",
    "AllChem.EmbedMolecule(mol_h, AllChem.ETKDG())  # 3D构型嵌入\n",
    "AllChem.UFFOptimizeMolecule(mol_h)  # UFF力场优化\n",
    "Draw.MolToFile(mol_h, \"generated_molecule.png\", size=(300, 300))"
   ]
  },
  {
   "cell_type": "code",
   "execution_count": 14,
   "id": "23af678f",
   "metadata": {},
   "outputs": [
    {
     "name": "stdout",
     "output_type": "stream",
     "text": [
      "α=0.00: [*]c1ccc(Oc2ccc(C(=O)c3ccc(Oc4ccc(C([*])(C)C)cc4)cc3)cc2)cc1\n",
      "α=0.20: [*]c1ccc(Oc2ccc(C(=O)c3ccc(Oc4ccc(C([*])(C)C)cc4)cc3)cc2)cc1\n",
      "α=0.40: [*]c1ccc(Oc2ccc(C(=O)c3ccc(Oc4ccc(C([*])(C)C)cc4)cc3)cc2)cc1\n",
      "α=0.60: [*]c1ccc(Oc2ccc(C(=O)c3ccc(Oc4ccc(C([*])(C)C)cc4)cc3)cc2)cc1\n",
      "α=0.80: [*]c1ccc(Oc2ccc(C(=O)c3ccc(Oc4ccc(C([*])(C)C)cc4)cc3)cc2)cc1\n",
      "α=1.00: [*]CC([*])(C)C(=O)OCCCCCCCCCCCCCCCCCCCCCCCCCCCCCCCCCCCCCCCCCCCCCCCCCCCCCCCCCCCCCCCCCCCCCCCCCCCCCCCCCCCCCCCCCCCCCCCCCCCCCCCCCCCCCCC\n"
     ]
    }
   ],
   "source": [
    "# 插值示例\n",
    "def encode_to_z(smiles):\n",
    "    ids = tokenizer.encode(smiles)\n",
    "    inp = torch.tensor(ids, device=device).unsqueeze(0)\n",
    "    mask = (inp != tokenizer.pad_id).long()\n",
    "    mu, logvar = model.encode(inp, mask)\n",
    "    return mu.squeeze(0), logvar.squeeze(0)\n",
    "\n",
    "s1, s2 = subset[:2]\n",
    "z1, _ = encode_to_z(s1)\n",
    "z2, _ = encode_to_z(s2)\n",
    "\n",
    "alphas = torch.linspace(0, 1, steps=6, device=device)\n",
    "interpolations = []\n",
    "for a in alphas:\n",
    "    z = (1 - a) * z1 + a * z2\n",
    "    ids = model.sample(z.unsqueeze(0), max_len=128)\n",
    "    interpolations.append(tokenizer.decode(ids.squeeze(0).tolist()))\n",
    "\n",
    "for a, seq in zip(alphas.tolist(), interpolations):\n",
    "    print(f\"α={a:.2f}: {seq}\")\n"
   ]
  },
  {
   "cell_type": "code",
   "execution_count": null,
   "id": "24e0d76b",
   "metadata": {},
   "outputs": [],
   "source": []
  }
 ],
 "metadata": {
  "kernelspec": {
   "display_name": "py38",
   "language": "python",
   "name": "python3"
  },
  "language_info": {
   "codemirror_mode": {
    "name": "ipython",
    "version": 3
   },
   "file_extension": ".py",
   "mimetype": "text/x-python",
   "name": "python",
   "nbconvert_exporter": "python",
   "pygments_lexer": "ipython3",
   "version": "3.8.20"
  }
 },
 "nbformat": 4,
 "nbformat_minor": 5
}
